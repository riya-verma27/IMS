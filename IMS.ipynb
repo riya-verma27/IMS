{
  "nbformat": 4,
  "nbformat_minor": 0,
  "metadata": {
    "colab": {
      "name": "IMS.ipynb",
      "provenance": [],
      "authorship_tag": "ABX9TyOkHHq4SQcW88wab0c4AAof",
      "include_colab_link": true
    },
    "kernelspec": {
      "name": "python3",
      "display_name": "Python 3"
    },
    "language_info": {
      "name": "python"
    }
  },
  "cells": [
    {
      "cell_type": "markdown",
      "metadata": {
        "id": "view-in-github",
        "colab_type": "text"
      },
      "source": [
        "<a href=\"https://colab.research.google.com/github/riya-verma27/IMS/blob/main/IMS.ipynb\" target=\"_parent\"><img src=\"https://colab.research.google.com/assets/colab-badge.svg\" alt=\"Open In Colab\"/></a>"
      ]
    },
    {
      "cell_type": "code",
      "metadata": {
        "id": "AoFIE6jE7Qn-"
      },
      "source": [
        "inventory = {\n",
        "    1200 : {\"item\": \"dettolhandwash\" , \"price\" : 80 , \"quantity\" : 30 , \"category\": \"handwash\" , \"rating\": 9},\n",
        "    1201 : {\"item\": \"dettolbottle\" , \"price\" : 80 , \"quantity\" : 100 , \"category\": \"medicine\" , \"rating\": 8},     \n",
        "    1202 : {\"item\": \"paracetamol\" , \"price\" : 40 , \"quantity\" : 10 , \"category\": \"medicine\", \"rating\": 7}, \n",
        "    1203 : {\"item\": \"potato\" , \"price\" : 10 , \"quantity\" : 100 , \"category\": \"vegetable\", \"rating\": 8}, \n",
        "    1204 : {\"item\": \"5star(s)\" , \"price\" : 10 , \"quantity\" : 100 , \"category\": \"chocolate\",\"rating\": 7},   \n",
        "    1205 : {\"item\": \"5star(m)\" , \"price\" : 20 , \"quantity\" : 100 , \"category\": \"chocolate\", \"rating\": 8}, \n",
        "    1206 : {\"item\": \"5star(l)\" , \"price\" : 40 , \"quantity\" : 50 , \"category\": \"chocolate\", \"rating\": 6},   \n",
        "    1207 : {\"item\": \"kitkat(s)\" , \"price\" : 10 , \"quantity\" : 300 , \"category\": \"chocolate\", \"rating\": 5},   \n",
        "    1208 : {\"item\": \"kitkat(m)\" , \"price\" : 40 , \"quantity\" : 400 , \"category\": \"chocolate\",\"rating\": 4},   \n",
        "    1209 : {\"item\": \"sneakers\" , \"price\" : 10 , \"quantity\" : 500 , \"category\": \"chocolate\",\"rating\": 10},    \n",
        "    1210 : {\"item\": \"centerfresh\" , \"price\" : 1 , \"quantity\" : 1000 , \"category\": \"toffee\", \"rating\": 9},    \n",
        "    1211 : {\"item\": \"centerfruit\" , \"price\" : 1 , \"quantity\" : 1000 , \"category\": \"toffee\",\"rating\": 8}, \n",
        "    1212 : {\"item\": \"chocobar\" , \"price\" : 10 , \"quantity\" : 200 , \"category\": \"chocolate\",\"rating\": 7},     \n",
        "    1213 : {\"item\": \"pilotpen\" , \"price\" : 100 , \"quantity\" : 100 , \"category\": \"stationary\",\"rating\": 2},      \n",
        "    1214 : {\"item\": \"apsarapencil\" , \"price\" : 5 , \"quantity\" : 200 , \"category\": \"stationary\",\"rating\": 3},     \n",
        "    1215 : {\"item\": \"fair-copy\" , \"price\" : 70 , \"quantity\" : 80 , \"category\": \"stationary\",\"rating\": 4},     \n",
        "    1216 : {\"item\": \"rough-copy\" , \"price\" : 30 , \"quantity\" : 80 , \"category\": \"stationary\",\"rating\": 5},    \n",
        "    1217 : {\"item\": \"pencil-box\" , \"price\" : 100 , \"quantity\" : 90 , \"category\": \"stationary\",\"rating\": 8},    \n",
        "    1218 : {\"item\": \"colors\" , \"price\" : 120 , \"quantity\" : 40 , \"category\": \"stationary\",\"rating\": 9},   \n",
        "    1219 : {\"item\": \"fevicol(m)\" , \"price\" : 20 , \"quantity\" : 100 , \"category\": \"stationary\",\"rating\": 8}, \n",
        "    1220 : {\"item\": \"fevicol(l)\" , \"price\" : 50 , \"quantity\" : 300 , \"category\": \"stationary\",\"rating\": 10}, \n",
        "    1221 : {\"item\": \"chocobar\" , \"price\" : 10 , \"quantity\" : 200 , \"category\": \"chocolate\",\"rating\": 7},     \n",
        "    1222 : {\"item\": \"pilotpen\" , \"price\" : 100 , \"quantity\" : 100 , \"category\": \"stationary\",\"rating\": 2},      \n",
        "    1223 : {\"item\": \"apsarapencil\" , \"price\" : 5 , \"quantity\" : 200 , \"category\": \"stationary\",\"rating\": 3},     \n",
        "    1224 : {\"item\": \"fair-copy\" , \"price\" : 70 , \"quantity\" : 80 , \"category\": \"stationary\",\"rating\": 4},     \n",
        "    1225 : {\"item\": \"rough-copy\" , \"price\" : 30 , \"quantity\" : 80 , \"category\": \"stationary\",\"rating\": 5},    \n",
        "    1226 : {\"item\": \"pencil-box\" , \"price\" : 100 , \"quantity\" : 90 , \"category\": \"stationary\",\"rating\": 8},    \n",
        "    1227 : {\"item\": \"colors\" , \"price\" : 120 , \"quantity\" : 40 , \"category\": \"stationary\",\"rating\": 9},   \n",
        "    1228 : {\"item\": \"fevicol(m)\" , \"price\" : 20 , \"quantity\" : 100 , \"category\": \"stationary\",\"rating\": 8}, \n",
        "    1229 : {\"item\": \"fevicol(l)\" , \"price\" : 50 , \"quantity\" : 300 , \"category\": \"stationary\",\"rating\": 10}\n",
        "    \n",
        "    \n",
        "} \n"
      ],
      "execution_count": 1,
      "outputs": []
    },
    {
      "cell_type": "code",
      "metadata": {
        "id": "r2IkR1a28wv6"
      },
      "source": [
        "import json\n",
        "fd=open(\"record.json\",\"w\")\n",
        "rec=json.dumps(inventory)"
      ],
      "execution_count": 3,
      "outputs": []
    },
    {
      "cell_type": "code",
      "metadata": {
        "colab": {
          "base_uri": "https://localhost:8080/",
          "height": 341
        },
        "id": "OcMhlfrG9SeB",
        "outputId": "71155191-9631-4907-8d49-5dae8bb31e9a"
      },
      "source": [
        "rec"
      ],
      "execution_count": 5,
      "outputs": [
        {
          "output_type": "execute_result",
          "data": {
            "application/vnd.google.colaboratory.intrinsic+json": {
              "type": "string"
            },
            "text/plain": [
              "'{\"1200\": {\"item\": \"dettolhandwash\", \"price\": 80, \"quantity\": 30, \"category\": \"handwash\", \"rating\": 9}, \"1201\": {\"item\": \"dettolbottle\", \"price\": 80, \"quantity\": 100, \"category\": \"medicine\", \"rating\": 8}, \"1202\": {\"item\": \"paracetamol\", \"price\": 40, \"quantity\": 10, \"category\": \"medicine\", \"rating\": 7}, \"1203\": {\"item\": \"potato\", \"price\": 10, \"quantity\": 100, \"category\": \"vegetable\", \"rating\": 8}, \"1204\": {\"item\": \"5star(s)\", \"price\": 10, \"quantity\": 100, \"category\": \"chocolate\", \"rating\": 7}, \"1205\": {\"item\": \"5star(m)\", \"price\": 20, \"quantity\": 100, \"category\": \"chocolate\", \"rating\": 8}, \"1206\": {\"item\": \"5star(l)\", \"price\": 40, \"quantity\": 50, \"category\": \"chocolate\", \"rating\": 6}, \"1207\": {\"item\": \"kitkat(s)\", \"price\": 10, \"quantity\": 300, \"category\": \"chocolate\", \"rating\": 5}, \"1208\": {\"item\": \"kitkat(m)\", \"price\": 40, \"quantity\": 400, \"category\": \"chocolate\", \"rating\": 4}, \"1209\": {\"item\": \"sneakers\", \"price\": 10, \"quantity\": 500, \"category\": \"chocolate\", \"rating\": 10}, \"1210\": {\"item\": \"centerfresh\", \"price\": 1, \"quantity\": 1000, \"category\": \"toffee\", \"rating\": 9}, \"1211\": {\"item\": \"centerfruit\", \"price\": 1, \"quantity\": 1000, \"category\": \"toffee\", \"rating\": 8}, \"1212\": {\"item\": \"chocobar\", \"price\": 10, \"quantity\": 200, \"category\": \"chocolate\", \"rating\": 7}, \"1213\": {\"item\": \"pilotpen\", \"price\": 100, \"quantity\": 100, \"category\": \"stationary\", \"rating\": 2}, \"1214\": {\"item\": \"apsarapencil\", \"price\": 5, \"quantity\": 200, \"category\": \"stationary\", \"rating\": 3}, \"1215\": {\"item\": \"fair-copy\", \"price\": 70, \"quantity\": 80, \"category\": \"stationary\", \"rating\": 4}, \"1216\": {\"item\": \"rough-copy\", \"price\": 30, \"quantity\": 80, \"category\": \"stationary\", \"rating\": 5}, \"1217\": {\"item\": \"pencil-box\", \"price\": 100, \"quantity\": 90, \"category\": \"stationary\", \"rating\": 8}, \"1218\": {\"item\": \"colors\", \"price\": 120, \"quantity\": 40, \"category\": \"stationary\", \"rating\": 9}, \"1219\": {\"item\": \"fevicol(m)\", \"price\": 20, \"quantity\": 100, \"category\": \"stationary\", \"rating\": 8}, \"1220\": {\"item\": \"fevicol(l)\", \"price\": 50, \"quantity\": 300, \"category\": \"stationary\", \"rating\": 10}, \"1221\": {\"item\": \"chocobar\", \"price\": 10, \"quantity\": 200, \"category\": \"chocolate\", \"rating\": 7}, \"1222\": {\"item\": \"pilotpen\", \"price\": 100, \"quantity\": 100, \"category\": \"stationary\", \"rating\": 2}, \"1223\": {\"item\": \"apsarapencil\", \"price\": 5, \"quantity\": 200, \"category\": \"stationary\", \"rating\": 3}, \"1224\": {\"item\": \"fair-copy\", \"price\": 70, \"quantity\": 80, \"category\": \"stationary\", \"rating\": 4}, \"1225\": {\"item\": \"rough-copy\", \"price\": 30, \"quantity\": 80, \"category\": \"stationary\", \"rating\": 5}, \"1226\": {\"item\": \"pencil-box\", \"price\": 100, \"quantity\": 90, \"category\": \"stationary\", \"rating\": 8}, \"1227\": {\"item\": \"colors\", \"price\": 120, \"quantity\": 40, \"category\": \"stationary\", \"rating\": 9}, \"1228\": {\"item\": \"fevicol(m)\", \"price\": 20, \"quantity\": 100, \"category\": \"stationary\", \"rating\": 8}, \"1229\": {\"item\": \"fevicol(l)\", \"price\": 50, \"quantity\": 300, \"category\": \"stationary\", \"rating\": 10}}'"
            ]
          },
          "metadata": {},
          "execution_count": 5
        }
      ]
    },
    {
      "cell_type": "code",
      "metadata": {
        "colab": {
          "base_uri": "https://localhost:8080/"
        },
        "id": "j21HP-DkAeLj",
        "outputId": "ecdb53d4-37e8-45f5-a3b5-4c6899242458"
      },
      "source": [
        "product=(int)(input(\"Enter the product ID:\"))\n",
        "quantity=(int)(input(\"Enter the quantity:\"))\n",
        "pr=inventory.get(product)\n",
        "if pr:\n",
        "  print(\"product name:\",pr.get('item'))\n",
        "  print(\"price per unit:\",pr.get('price'))\n",
        "  print(\"amount to be paid:\",quantity*pr.get('price'))\n",
        "  pr['quantity']-=quantity\n",
        "else:\n",
        "  print(\"Product not found\")"
      ],
      "execution_count": 8,
      "outputs": [
        {
          "output_type": "stream",
          "name": "stdout",
          "text": [
            "Enter the product ID:1226\n",
            "Enter the quantity:5\n",
            "product name: pencil-box\n",
            "price per unit: 100\n",
            "amount to be paid: 500\n"
          ]
        }
      ]
    },
    {
      "cell_type": "code",
      "metadata": {
        "id": "8s-NOOzdDTSW"
      },
      "source": [
        "import json\n",
        "\n",
        "file = open('record.json', 'w')\n",
        "json.dump(inventory, file )"
      ],
      "execution_count": 10,
      "outputs": []
    }
  ]
}